{
  "cells": [
    {
      "attachments": {
      },
      "cell_type": "markdown",
      "metadata": {
      },
      "source": [
        "## Kostenfunktionen\n",
        "\n",
        "In dieser Lektion lernen wir, wie man eine *Kostenfunktion* auswertet:\n",
        "\n",
        "- Zuerst lernen wir [Qiskit Runtime-Primitive](https://qiskit.org/documentation/partners/qiskit_ibm_runtime/primitives.html) kennen\n",
        "- Definieren Sie eine *Kostenfunktion* $C(\\vec\\theta)$. Dies ist eine problemspezifische Funktion, die das Ziel des Problems definiert, das der Optimierer minimieren (oder maximieren) soll.\n",
        "- Definieren einer Messstrategie mit den Qiskit Runtime-Primitiven zur Optimierung von Geschwindigkeit und Genauigkeit\n",
        "\n",
        "&nbsp;\n",
        "\n",
        "![Kostenfunktions-Workflow](images/cost_function_workflow.png)"
      ]
    },
    {
      "attachments": {
      },
      "cell_type": "markdown",
      "metadata": {
        "gloss": {
          "primitives": {
            "text": "Basic and fundamental operations or data type. Qiskit has the Sampler and Estimator primitives to serve as building blocks to easily construct complex workloads, like variational algorithms.",
            "title": "Primitives"
          }
        }
      },
      "source": [
        "## Grundelemente\n",
        "\n",
        "Alle physikalischen Systeme, ob klassisch oder quantenmechanisch, können in verschiedenen Zuständen existieren. Ein Auto auf einer Straße kann beispielsweise eine bestimmte Masse, Position, Geschwindigkeit oder Beschleunigung haben, die seinen Zustand charakterisieren. Ebenso können Quantensysteme verschiedene Konfigurationen oder Zustände haben, unterscheiden sich jedoch von klassischen Systemen in der Art und Weise, wie wir mit Messungen und Zustandsentwicklung umgehen. Dies führt zu einzigartigen Eigenschaften wie *Superposition* und *Verschränkung* , die ausschließlich der Quantenmechanik vorbehalten sind. So wie wir den Zustand eines Autos anhand physikalischer Eigenschaften wie Geschwindigkeit oder Beschleunigung beschreiben können, können wir auch den Zustand eines Quantensystems anhand von *Observablen* beschreiben, die mathematische Objekte sind.\n",
        "\n",
        "In der Quantenmechanik werden Zustände durch normalisierte komplexe Spaltenvektoren oder *Kets* ($|\\psi\\rangle$) dargestellt, und Observablen sind hermitesche lineare Operatoren ( $\\hat{H}=\\hat{H}^{\\dagger}$ ), die auf die Kets einwirken. Ein Eigenvektor ($|\\lambda\\rangle$) einer Observablen wird als *Eigenzustand* bezeichnet. Wenn wir eine Observable für einen ihrer Eigenzustände ($|\\lambda\\rangle$) messen, erhalten wir den entsprechenden Eigenwert ( $\\lambda$ ) als Messwert.\n",
        "\n",
        "Wenn Sie sich fragen, wie man ein Quantensystem misst und was man messen kann, bietet Qiskit zwei hilfreiche [Grundelemente](gloss:primitives) :\n",
        "\n",
        "- `Sampler` : Bei einem gegebenen Quantenzustand $|\\psi\\rangle$ ermittelt dieses Primitiv die Wahrscheinlichkeit jedes möglichen Berechnungsbasiszustands.\n",
        "- `Estimator` : Gegeben sei eine Quantenobservable $\\hat{H}$ und ein Zustand $|\\psi\\rangle$. Dieses Primitiv berechnet den erwarteten Wert von $\\hat{H}$ .\n"
      ]
    },
    {
      "attachments": {
      },
      "cell_type": "markdown",
      "metadata": {
      },
      "source": [
        "### Das Sampler-Primitiv\n",
        "\n",
        "Das `Sampler` Primitiv berechnet die Wahrscheinlichkeit, jeden möglichen Zustand $|k\\rangle$ aus der Berechnungsbasis zu erhalten, vorausgesetzt, es gibt einen Quantenschaltkreis, der den Zustand $|\\psi\\rangle$ vorbereitet. Es berechnet\n",
        "\n",
        "$$\n",
        "p_k = |\\langle k | \\psi \\rangle|^2 \\quad \\forall k \\in \\mathbb{Z}_2^n \\equiv \\{0,1,\\cdots,2^n-1\\},\n",
        "$$\n",
        "\n",
        "Wobei $n$ die Anzahl der Qubits und $k$ die Ganzzahldarstellung einer möglichen binären Ausgabezeichenfolge $\\{0,1\\}^n$ (d. h. ganze Zahlen zur Basis $2$) ist.\n",
        "\n",
        "`Sampler` [von Qiskit Runtime](https://qiskit.org/documentation/partners/qiskit_ibm_runtime/stubs/qiskit_ibm_runtime.Sampler.html) führt den Schaltkreis mehrere Male auf einem Quantengerät aus, führt bei jedem Durchlauf Messungen durch und rekonstruiert die Wahrscheinlichkeitsverteilung aus den wiederhergestellten Bitfolgen. Je mehr Durchläufe (oder *Schüsse* ) durchgeführt werden, desto genauer sind die Ergebnisse, aber dies erfordert mehr Zeit und Quantenressourcen.\n",
        "\n",
        "Da die Anzahl der möglichen Ausgaben jedoch exponentiell mit der Anzahl der Qubits $n$ wächst (also $2^n$), muss auch die Anzahl der Aufnahmen exponentiell wachsen, um eine *dichte* Wahrscheinlichkeitsverteilung zu erfassen. Daher ist `Sampler` nur für *spärliche* Wahrscheinlichkeitsverteilungen effizient; dabei muss der Zielzustand $|\\psi\\rangle$ als lineare Kombination der rechnerischen Basiszustände ausgedrückt werden können, wobei die Anzahl der Terme höchstens polynomisch mit der Anzahl der Qubits wächst:\n",
        "\n",
        "$$\n",
        "|\\psi\\rangle = \\sum^{\\text{Poly}(n)}_k w_k |k\\rangle.\n",
        "$$\n",
        "\n",
        "Der `Sampler` kann auch so konfiguriert werden, dass er Wahrscheinlichkeiten aus einem Unterabschnitt des Schaltkreises abruft, der eine Teilmenge aller möglichen Zustände darstellt."
      ]
    },
    {
      "attachments": {
      },
      "cell_type": "markdown",
      "metadata": {
        "gloss": {
          "pauli": {
            "text": "Set of matrices commonly used in quantum computing to represent and manipulate quantum states, consisting of the identity matrix and the three Pauli matrices (X, Y, and Z).",
            "title": "Pauli Operators"
          }
        }
      },
      "source": [
        "### Das Schätzer-Primitiv\n",
        "\n",
        "Das `Estimator` Primitiv berechnet den Erwartungswert einer Observablen $\\hat{H}$ für einen Quantenzustand $|\\psi\\rangle$; wobei die Observablenwahrscheinlichkeiten als $p_\\lambda = |\\langle\\lambda|\\psi\\rangle|^2$ ausgedrückt werden können, wobei $|\\lambda\\rangle$ die Eigenzustände der Observablen $\\hat{H}$ sind. Der Erwartungswert wird dann als Durchschnitt aller möglichen Ergebnisse $\\lambda$ (also der Eigenwerte der Observablen) einer Messung des Zustands $|\\psi\\rangle$ definiert, gewichtet mit den entsprechenden Wahrscheinlichkeiten:\n",
        "\n",
        "$$\n",
        "\\langle\\hat{H}\\rangle_\\psi := \\sum_\\lambda p_\\lambda \\lambda = \\langle \\psi | \\hat{H} | \\psi \\rangle\n",
        "$$\n",
        "\n",
        "Allerdings ist es nicht immer möglich, den Erwartungswert einer Observablen zu berechnen, da wir ihre Eigenbasis oft nicht kennen. `Estimator` [von Qiskit Runtime](https://qiskit.org/documentation/partners/qiskit_ibm_runtime/stubs/qiskit_ibm_runtime.Estimator.html) verwendet einen komplexen algebraischen Prozess, um den Erwartungswert auf einem realen Quantengerät zu schätzen, indem er die Observable in eine Kombination anderer Observablen zerlegt, deren Eigenbasis wir kennen.\n",
        "\n",
        "Einfacher ausgedrückt zerlegt `Estimator` alle Observablen, für die es keine Messung kennt, in einfachere, messbare Observablen, sogenannte [Pauli-Operatoren](gloss:pauli) ."
      ]
    },
    {
      "attachments": {
      },
      "cell_type": "markdown",
      "metadata": {
      },
      "source": [
        "Jeder Operator kann als Kombination von $4^n$ Pauli-Operatoren ausgedrückt werden.\n",
        "\n",
        "$$\n",
        "\\hat{P}_k := \n",
        "\\sigma_{k_{n-1}}\\otimes \\cdots \\otimes \\sigma_{k_0} \\quad \n",
        "\\forall k \\in \\mathbb{Z}_4^n \\equiv \\{0,1,\\cdots,4^n-1\\}, \\\\\n",
        "$$\n",
        "\n",
        "so dass\n",
        "\n",
        "$$\n",
        "\\hat{H} = \\sum^{4^n-1}_{k=0} w_k \\hat{P}_k\n",
        "$$\n",
        "\n",
        "wobei $n$ die Anzahl der Qubits ist, $k \\equiv k_{n-1} \\cdots k_0$ für $k_l \\in \\mathbb{Z}_4 \\equiv {0, 1, 2, 3}$ (also ganze Zahlen zur Basis 4) und $(\\sigma_0, \\sigma_1, \\sigma_2, \\sigma_3) := (I, X, Y, Z)$.\n",
        "\n",
        "Nach der Durchführung dieser Zerlegung leitet `Estimator` für jede Observable $\\hat{P}_k$ (also aus der ursprünglichen Schaltung) einen neuen Schaltkreis $V_k|\\psi\\rangle$ ab, um die Pauli-Observable in der Berechnungsbasis effektiv zu *diagonalisieren* und zu messen. Wir können Pauli-Observablen leicht messen, da wir $V_k$ im Voraus kennen, was bei anderen Observablen im Allgemeinen nicht der Fall ist.\n",
        "\n",
        "Für jedes `{latex} \\hat{P}_{k}` führt der `Estimator` den entsprechenden Schaltkreis auf einem Quantengerät mehrere Male aus, misst den Ausgabezustand in der Berechnungsbasis und berechnet die Wahrscheinlichkeit $p_{kj}$, jede mögliche Ausgabe $j$ zu erhalten. Anschließend sucht er nach dem Eigenwert $\\lambda_{kj}$ von $P_k$, der jeder Ausgabe $j$ entspricht, multipliziert mit $w_k$ und addiert alle Ergebnisse, um den erwarteten Wert der Observablen $\\hat{H}$ für den gegebenen Zustand $|\\psi\\rangle$ zu erhalten.\n",
        "\n",
        "$$\n",
        "\\langle\\hat{H}\\rangle_\\psi = \n",
        "\\sum_{k=0}^{4^n-1} w_k \\sum_{j=0}^{2^n-1}p_{kj} \\lambda_{kj},\n",
        "$$"
      ]
    },
    {
      "attachments": {
      },
      "cell_type": "markdown",
      "metadata": {
        "gloss": {
          "sampling": {
            "text": "The process of taking several measurements of one or several things.",
            "title": "Sampling"
          }
        }
      },
      "source": [
        "Da die Berechnung des Erwartungswerts von 4^n Paulis nicht praktikabel ist (d. h. exponentiell wächst), kann `Estimator` nur dann effizient sein, wenn ein großer Anteil von w_k Null ist (d. h. *spärliche* Pauli-Zerlegung statt *dichter* ). Formal sagen wir, dass die Anzahl der von Null verschiedenen Terme höchstens polynomisch mit der Anzahl der Qubits n wachsen muss, damit diese Berechnung *effizient lösbar* ist: $\\hat{H} = \\sum^{\\text{Poly}(n)}_k w_k \\hat{P}_k.$\n",
        "\n",
        "Dem Leser fällt vielleicht die implizite Annahme auf, dass die [Wahrscheinlichkeitsauswahl](gloss:sampling) auch effizient sein muss, wie für `Sampler` erklärt, was bedeutet\n",
        "\n",
        "$$\n",
        "\\langle\\hat{H}\\rangle_\\psi = \n",
        "\\sum_{k}^{\\text{Poly}(n)} w_k \\sum_{j}^{\\text{Poly}(n)}p_{kj} \\lambda_{kj}.\n",
        "$$"
      ]
    },
    {
      "attachments": {
      },
      "cell_type": "markdown",
      "metadata": {
      },
      "source": [
        "### Geführtes Beispiel zur Berechnung von Erwartungswerten\n",
        "\n",
        "Nehmen wir den Einzel-Qubit-Zustand $|+\\rangle := H|0\\rangle = \\frac{1}{\\sqrt{2}}(|0\\rangle + |1\\rangle)$ an und beobachtbare\n",
        "\n",
        "$$\n",
        "\\begin{aligned}\n",
        "\\hat{H}\n",
        "& = \\begin{pmatrix} \n",
        "-1 & 2 \\\\\n",
        "2 & -1 \\\\\n",
        "\\end{pmatrix}\\\\[1mm]\n",
        "& = 2X - Z\n",
        "\n",
        "\\end{aligned}\n",
        "$$\n",
        "\n",
        "mit folgendem theoretischen Erwartungswert $\\langle\\hat{H}\\rangle_+ = \\langle+|\\hat{H}|+\\rangle = 2.$\n",
        "\n",
        "Da wir nicht wissen, wie wir diese Observable messen sollen, können wir ihren Erwartungswert nicht direkt berechnen und müssen ihn als $\\langle\\hat{H}\\rangle_+ = 2\\langle X \\rangle_+ - \\langle Z \\rangle_+ $ neu ausdrücken. Man kann zeigen, dass die Auswertung dasselbe Ergebnis liefert, wenn man feststellt, dass $\\langle+|X|+\\rangle = 1$ und $\\langle+|Z|+\\rangle = 0$ .\n",
        "\n",
        "Sehen wir uns an, wie man $\\langle X \\rangle_+$ und $\\langle Z \\rangle_+$ direkt berechnet. Da $X$ und $Z$ nicht kommutieren (d. h. nicht dieselbe Eigenbasis haben), können sie nicht gleichzeitig gemessen werden. Daher benötigen wir die Hilfsschaltungen:"
      ]
    },
    {
      "cell_type": "code",
      "execution_count": null,
      "metadata": {
      },
      "outputs": [

      ],
      "source": [
        "from qiskit import QuantumCircuit\n",
        "from qiskit.quantum_info import SparsePauliOp\n",
        "\n",
        "# The following code will work for any other initial single-qubit state and observable\n",
        "original_circuit = QuantumCircuit(1)\n",
        "original_circuit.h(0)\n",
        "\n",
        "H = SparsePauliOp([\"X\", \"Z\"], [2, -1])\n",
        "\n",
        "aux_circuits = []\n",
        "for pauli in H.paulis:\n",
        "    aux_circ = original_circuit.copy()\n",
        "    aux_circ.barrier()\n",
        "    if str(pauli) == \"X\":\n",
        "        aux_circ.h(0)\n",
        "    elif str(pauli) == \"Y\":\n",
        "        aux_circ.sdg(0)\n",
        "        aux_circ.h(0)\n",
        "    else:\n",
        "        aux_circ.i(0)\n",
        "    aux_circ.measure_all()\n",
        "    aux_circuits.append(aux_circ)\n",
        "\n",
        "\n",
        "print(\"Original circuit:\")\n",
        "display(original_circuit.draw(\"mpl\"))\n",
        "for (circuit, pauli) in zip(aux_circuits, H.paulis):\n",
        "    print(f\"Auxiliary circuit for {str(pauli)}\")\n",
        "    display(circuit.draw(\"mpl\"))"
      ]
    },
    {
      "attachments": {
      },
      "cell_type": "markdown",
      "metadata": {
      },
      "source": [
        "Wir können die Berechnung jetzt manuell mit `Sampler` durchführen und die Ergebnisse mit `Estimator` überprüfen:"
      ]
    },
    {
      "cell_type": "code",
      "execution_count": null,
      "metadata": {
      },
      "outputs": [

      ],
      "source": [
        "from qiskit.primitives import Sampler, Estimator\n",
        "from qiskit.circuit.library import IGate, ZGate\n",
        "import numpy as np\n",
        "\n",
        "\n",
        "## SAMPLER\n",
        "sampler = Sampler()\n",
        "job = sampler.run(aux_circuits)\n",
        "probability_dists = job.result().quasi_dists\n",
        "\n",
        "expvals = []\n",
        "for dist, pauli in zip(probability_dists, H.paulis):\n",
        "    val = 0\n",
        "    if str(pauli) == \"I\":\n",
        "        Lambda = IGate().to_matrix().real\n",
        "    else:\n",
        "        Lambda = ZGate().to_matrix().real\n",
        "    val += Lambda[0][0] * dist.get(0, 0)\n",
        "    val += Lambda[1][1] * dist.get(1, 0)\n",
        "    expvals.append(val)\n",
        "\n",
        "\n",
        "print(\"Sampler results:\")\n",
        "for (pauli, expval) in zip(H.paulis, expvals):\n",
        "    print(f\"  >> Expected value of {str(pauli)}: {expval:.5f}\")\n",
        "\n",
        "total_expval = np.sum(H.coeffs * expvals).real\n",
        "print(f\"  >> Total expected value: {total_expval:.5f}\")\n",
        "\n",
        "\n",
        "## ESTIMATOR\n",
        "observables = [\n",
        "    *H.paulis,\n",
        "    H,\n",
        "]  # Note: run for individual Paulis as well as full observable H\n",
        "\n",
        "estimator = Estimator()\n",
        "job = estimator.run([original_circuit] * len(observables), observables)\n",
        "estimator_expvals = job.result().values\n",
        "\n",
        "print(\"Estimator results:\")\n",
        "for (obs, expval) in zip(observables, estimator_expvals):\n",
        "    if obs is not H:\n",
        "        print(f\"  >> Expected value of {str(obs)}: {expval:.5f}\")\n",
        "    else:\n",
        "        print(f\"  >> Total expected value: {expval:.5f}\")"
      ]
    },
    {
      "attachments": {
      },
      "cell_type": "markdown",
      "metadata": {
      },
      "source": [
        "### Mathematische Genauigkeit (optional)\n",
        "\n",
        "Wenn wir $|\\psi\\rangle$ bezüglich der Basis der Eigenzustände von $\\hat{H}$ ausdrücken, $|\\psi\\rangle = \\sum_\\lambda a_\\lambda |\\lambda\\rangle$, folgt:\n",
        "\n",
        "$$\n",
        "\\begin{aligned}\n",
        "\\langle \\psi | \\hat{H} | \\psi \\rangle\n",
        "& = \\bigg(\\sum_{\\lambda'}a^*_{\\lambda'} \\langle \\lambda'|\\bigg) \\hat{H} \n",
        "  \\bigg(\\sum_{\\lambda} a_\\lambda | \\lambda\\rangle\\bigg)\\\\[1mm]\n",
        "\n",
        "& = \\sum_{\\lambda}\\sum_{\\lambda'} a^*_{\\lambda'}a_{\\lambda} \n",
        "  \\langle \\lambda'|\\hat{H}| \\lambda\\rangle\\\\[1mm]\n",
        "\n",
        "& = \\sum_{\\lambda}\\sum_{\\lambda'} a^*_{\\lambda'}a_{\\lambda} \\lambda \n",
        "\\langle \\lambda'| \\lambda\\rangle\\\\[1mm]\n",
        "\n",
        "& = \\sum_{\\lambda}\\sum_{\\lambda'} a^*_{\\lambda'}a_{\\lambda} \\lambda \n",
        "\\cdot \\delta_{\\lambda, \\lambda'}\\\\[1mm]\n",
        "\n",
        "& = \\sum_\\lambda |a_\\lambda|^2 \\lambda\\\\[1mm]\n",
        "\n",
        "& = \\sum_\\lambda p_\\lambda \\lambda\\\\[1mm]\n",
        "\n",
        "\\end{aligned}\n",
        "$$"
      ]
    },
    {
      "attachments": {
      },
      "cell_type": "markdown",
      "metadata": {
        "gloss": {
          "hermitian": {
            "text": "A hermitian is a square matrix that is equal to its own conjugate transpose, or a linear operator that is self-adjoint.",
            "title": "Hermitian"
          }
        }
      },
      "source": [
        "Da wir die Eigenwerte oder Eigenzustände der Zielobservable $\\hat{H}$ nicht kennen, müssen wir zunächst ihre Diagonalisierung betrachten. Da $\\hat{H}$ [hermitesch](gloss:hermitian) ist, gibt es eine unitäre Transformation $V$, sodass $\\hat{H}=V^\\dagger \\Lambda V,$ wobei $\\Lambda$ die diagonale Eigenwertmatrix ist, also $\\langle j | \\Lambda | k \\rangle = 0$ wenn $j\\neq k$ und $\\langle j | \\Lambda | j \\rangle = \\lambda_j$ .\n",
        "\n",
        "Dies bedeutet, dass der erwartete Wert wie folgt umgeschrieben werden kann:\n",
        "\n",
        "$$\n",
        "\\begin{aligned}\n",
        "\\langle\\psi|\\hat{H}|\\psi\\rangle\n",
        "& = \\langle\\psi|V^\\dagger \\Lambda V|\\psi\\rangle\\\\[1mm]\n",
        "\n",
        "& = \\langle\\psi|V^\\dagger \\bigg(\\sum_{j=0}^{2^n-1} |j\\rangle \n",
        "\\langle j|\\bigg) \\Lambda \\bigg(\\sum_{k=0}^{2^n-1} |k\\rangle \\langle k|\\bigg) V|\\psi\\rangle\\\\[1mm]\n",
        "\n",
        "& = \\sum_{j=0}^{2^n-1} \\sum_{k=0}^{2^n-1}\\langle\\psi|V^\\dagger |j\\rangle \n",
        "\\langle j| \\Lambda  |k\\rangle \\langle k| V|\\psi\\rangle\\\\[1mm]\n",
        "\n",
        "& = \\sum_{j=0}^{2^n-1}\\langle\\psi|V^\\dagger |j\\rangle \n",
        "\\langle j| \\Lambda  |j\\rangle \\langle j| V|\\psi\\rangle\\\\[1mm]\n",
        "\n",
        "& = \\sum_{j=0}^{2^n-1}|\\langle j| V|\\psi\\rangle|^2 \\lambda_j\\\\[1mm]\n",
        "\n",
        "\\end{aligned}\n",
        "$$\n",
        "\n",
        "Wenn sich ein System im Zustand $|\\phi\\rangle = V |\\psi\\rangle$ befindet und die Wahrscheinlichkeit, $| j\\rangle$ zu messen, $p_j = |\\langle j|\\phi \\rangle|^2$ beträgt, kann der obige Erwartungswert wie folgt ausgedrückt werden:\n",
        "\n",
        "$$\n",
        "\\langle\\psi|\\hat{H}|\\psi\\rangle = \n",
        "\\sum_{j=0}^{2^n-1} p_j \\lambda_j.\n",
        "$$\n",
        "\n",
        "Es ist sehr wichtig zu beachten, dass die Wahrscheinlichkeiten aus dem Zustand $V |\\psi\\rangle$ und nicht aus $|\\psi\\rangle$ entnommen werden. Aus diesem Grund ist die Matrix $V$ unbedingt erforderlich."
      ]
    },
    {
      "attachments": {
      },
      "cell_type": "markdown",
      "metadata": {
      },
      "source": [
        "Sie fragen sich vielleicht, wie Sie die Matrix $V$ und die Eigenwerte $\\Lambda$ erhalten. Wenn Sie die Eigenwerte bereits hätten, bräuchten Sie keinen Quantencomputer, da das Ziel von Variationsalgorithmen darin besteht, diese Eigenwerte von $\\hat{H}$ zu finden.\n",
        "\n",
        "Glücklicherweise gibt es einen Weg, das zu umgehen: jede $2^n \\times 2^n$-Matrix kann als lineare Kombination von $4^n$-Tensorprodukten von $n$ Pauli-Matrizen und Identitäten geschrieben werden, die alle sowohl hermitesch als auch unitär mit bekanntem $V$ und $\\Lambda$ sind. Dies ist, was `Estimator` der Runtime intern tut, indem er jedes [Operatorobjekt](https://qiskit.org/documentation/stubs/qiskit.quantum_info.Operator.html) in einen [SparsePauliOp](https://qiskit.org/documentation/stubs/qiskit.quantum_info.SparsePauliOp.html) zerlegt.\n",
        "\n",
        "Hier sind die Operatoren, die verwendet werden können:\n",
        "\n",
        "$$\n",
        "\\begin{array}{c|c|c|c}\n",
        "  \\text{Operator} & \\sigma & V & \\Lambda \\\\[1mm]\n",
        "  \\hline\n",
        "  I & \\sigma_0 = \\begin{pmatrix} 1 & 0 \\\\ 0 & 1 \\end{pmatrix} & V_0 = I & \\Lambda_0 = I = \\begin{pmatrix} 1 & 0 \\\\ 0 & 1 \\end{pmatrix} \\\\[4mm]\n",
        "\n",
        "  X & \\sigma_1 = \\begin{pmatrix} 0 & 1 \\\\ 1 & 0 \\end{pmatrix} & V_1 = H =\\frac{1}{\\sqrt{2}} \\begin{pmatrix} 1 & 1 \\\\ 1 & -1 \\end{pmatrix} & \\Lambda_1 = \\sigma_3 = \\begin{pmatrix} 1 & 0 \\\\ 0 & -1 \\end{pmatrix} \\\\[4mm]\n",
        "\n",
        "  Y & \\sigma_2 = \\begin{pmatrix} 0 & -i \\\\ i & 0 \\end{pmatrix} & V_2 = HS^\\dagger  =\\frac{1}{\\sqrt{2}} \\begin{pmatrix} 1 & 1 \\\\ 1 & -1 \\end{pmatrix}\\cdot  \\begin{pmatrix} 1 & 0 \\\\ 0 & -i \\end{pmatrix} = \\frac{1}{\\sqrt{2}} \\begin{pmatrix} 1 & -i \\\\ 1 & i \\end{pmatrix}\\quad & \\Lambda_2 = \\sigma_3 = \\begin{pmatrix} 1 & 0 \\\\ 0 & -1 \\end{pmatrix} \\\\[4mm]\n",
        "\n",
        "  Z & \\sigma_3 = \\begin{pmatrix} 1 & 0 \\\\ 0 & -1 \\end{pmatrix} & V_3 = I & \\Lambda_3 = \\sigma_3 = \\begin{pmatrix} 1 & 0 \\\\ 0 & -1 \\end{pmatrix}\n",
        "\\end{array}\n",
        "$$"
      ]
    },
    {
      "attachments": {
      },
      "cell_type": "markdown",
      "metadata": {
      },
      "source": [
        "Schreiben wir also $\\hat{H}$ in Bezug auf die Paulis und Identitäten neu:\n",
        "\n",
        "$$\n",
        "\\hat{H} = \n",
        "\\sum_{k_{n-1}=0}^3...\n",
        "\\sum_{k_0=0}^3 w_{k_{n-1}...k_0} \n",
        "\\sigma_{k_{n-1}}\\otimes ... \\otimes \\sigma_{k_0} = \\sum_{k=0}^{4^n-1} w_k \\hat{P}_k,\n",
        "$$\n",
        "\n",
        "wobei $k = \\sum_{l=0}^{n-1} 4^l k_l \\equiv k_{n-1}...k_0$ für $k_{n-1},...,k_0\\in {0,1,2,3}$ (also Basis $4$), und `{latex} \\hat{P}_{k} := \\sigma_{k_{n-1}}\\otimes ... \\otimes \\sigma_{k_0}` :\n",
        "\n",
        "$$\n",
        "\\begin{aligned}\n",
        "\\langle\\psi|\\hat{H}|\\psi\\rangle\n",
        "& = \\sum_{k=0}^{4^n-1} w_k \n",
        "\\sum_{j=0}^{2^n-1}|\\langle j| V_k|\\psi\\rangle|^2 \\langle j| \\Lambda_k |j\\rangle \\\\[1mm]\n",
        "\n",
        "& = \\sum_{k=0}^{4^n-1} w_k \\sum_{j=0}^{2^n-1}p_{kj} \\lambda_{kj}, \\\\[1mm]\n",
        "\n",
        "\n",
        "\\end{aligned}\n",
        "$$\n",
        "\n",
        "wobei $V_k := V_{k_{n-1}}\\otimes ... \\otimes V_{k_0}$ und $\\Lambda_k := \\Lambda_{k_{n-1}}\\otimes ... \\otimes \\Lambda_{k_0}$ , so dass: $\\hat{P_k}=V_k^\\dagger \\Lambda_k V_k.$"
      ]
    },
    {
      "attachments": {
      },
      "cell_type": "markdown",
      "metadata": {
        "gloss": {
          "oracle": {
            "text": " A hypothetical device or software component that performs a specific function, but the internal workings of which are unknown. A user is only aware of the inputs and outputs of the black box, and has no knowledge of how the black box processes the inputs to produce the outputs.",
            "title": "Black-box oracle"
          }
        }
      },
      "source": [
        "## Kostenfunktionen\n",
        "\n",
        "Im Allgemeinen werden Kostenfunktionen verwendet, um das Ziel eines Problems zu beschreiben und um zu ermitteln, wie gut ein Versuchszustand in Bezug auf dieses Ziel abschneidet. Diese Definition kann auf verschiedene Beispiele in Chemie, maschinellem Lernen, Finanzen, Optimierung usw. angewendet werden.\n",
        "\n",
        "Betrachten wir ein einfaches Beispiel für die Ermittlung des Grundzustands eines Systems. Unser Ziel ist es, den Erwartungswert der Observablen, die die Energie darstellen (Hamilton-Funktion $\\hat{\\mathcal{H}}$ ), zu minimieren:\n",
        "\n",
        "$$\n",
        "\\min_{\\vec\\theta} \\langle\\psi(\\vec\\theta)|\\hat{\\mathcal{H}}|\\psi(\\vec\\theta)\\rangle\n",
        "$$\n",
        "\n",
        "Wir können das [*Estimator-* Primitiv](https://github.com/qiskit-community/prototype-zne/blob/main/docs/tutorials/0-estimator.ipynb) verwenden, um den Erwartungswert zu ermitteln und diesen Wert zur Minimierung an einen Optimierer weiterzuleiten. Wenn die Optimierung erfolgreich ist, wird ein Satz optimaler Parameterwerte $\\vec\\theta^*$ zurückgegeben, aus dem wir den vorgeschlagenen Lösungszustand $|\\psi(\\vec\\theta^ *)\\rangle$ konstruieren und den beobachteten Erwartungswert als $C(\\vec\\theta^ )$ berechnen* können.\n",
        "\n",
        "Beachten Sie, dass wir die Kostenfunktion nur für die begrenzte Anzahl von Zuständen minimieren können, die wir betrachten. Dies führt uns zu zwei unterschiedlichen Möglichkeiten:\n",
        "\n",
        "- **Unser Ansatz definiert den Lösungszustand nicht im gesamten Suchraum** : Wenn dies der Fall ist, wird unser Optimierer nie die Lösung finden und wir müssen mit anderen Ansätzen experimentieren, die unseren Suchraum möglicherweise genauer darstellen können.\n",
        "- **Unser Optimierer kann diese gültige Lösung nicht finden** : Optimierung kann global und lokal definiert werden. Was das bedeutet, werden wir im späteren Abschnitt untersuchen.\n",
        "\n",
        "Alles in allem werden wir eine klassische Optimierungsschleife durchführen, uns dabei aber auf die Auswertung der Kostenfunktion durch einen Quantencomputer verlassen. Aus dieser Perspektive könnte man die Optimierung als ein rein klassisches Unterfangen betrachten, bei dem wir jedes Mal, wenn der Optimierer die Kostenfunktion auswerten muss, ein [*Black-Box-Quantenorakel*](gloss:oracle) aufrufen."
      ]
    },
    {
      "cell_type": "code",
      "execution_count": null,
      "metadata": {
      },
      "outputs": [

      ],
      "source": [
        "from qiskit.circuit.library import TwoLocal\n",
        "from qiskit import QuantumCircuit\n",
        "from qiskit_ibm_runtime import QiskitRuntimeService, Estimator\n",
        "\n",
        "# Add your token below\n",
        "service = QiskitRuntimeService(channel=\"ibm_quantum\")\n",
        "\n",
        "def cost_function_vqe(theta):\n",
        "    observable = SparsePauliOp.from_list([(\"XX\", 1), (\"YY\", -3)])\n",
        "\n",
        "    reference_circuit = QuantumCircuit(2)\n",
        "    reference_circuit.x(0)\n",
        "\n",
        "    variational_form = TwoLocal(\n",
        "        2,\n",
        "        rotation_blocks=[\"rz\", \"ry\"],\n",
        "        entanglement_blocks=\"cx\",\n",
        "        entanglement=\"linear\",\n",
        "        reps=1,\n",
        "    )\n",
        "    ansatz = reference_circuit.compose(variational_form)\n",
        "\n",
        "    backend = service.backend(\"ibmq_qasm_simulator\")\n",
        "    \n",
        "    # Use estimator to get the expected values corresponding to each ansatz\n",
        "    estimator = Estimator(session=backend)\n",
        "    job = estimator.run(ansatz, observable, theta)\n",
        "    values = job.result().values\n",
        "\n",
        "    return values\n",
        "\n",
        "\n",
        "theta_list = (2 * np.pi * np.random.rand(1, 8)).tolist()\n",
        "cost_function_vqe(theta_list)"
      ]
    },
    {
      "attachments": {
      },
      "cell_type": "markdown",
      "metadata": {
      },
      "source": [
        "### Beispielhafte Zuordnung zu nicht-physischen Systemen\n",
        "\n",
        "Das Maximum-Cut-Problem (Max-Cut) ist ein kombinatorisches Optimierungsproblem, bei dem die Knoten eines Graphen in zwei disjunkte Mengen aufgeteilt werden, so dass die Anzahl der Kanten zwischen den beiden Mengen maximiert wird. Formaler ausgedrückt: Bei einem ungerichteten Graphen $G=(V,E)$, wobei $V$ die Menge der Knoten und $E$ die Menge der Kanten ist, besteht das Max-Cut-Problem darin, die Knoten in zwei disjunkte Teilmengen, $S$ und $T$, aufzuteilen, so dass die Anzahl der Kanten mit einem Endpunkt in $S$ und dem anderen in $T$ maximiert wird.\n",
        "\n",
        "Wir können Max-Cut anwenden, um verschiedene Probleme zu lösen, darunter: Clustering, Netzwerkdesign, Phasenübergänge usw. Wir beginnen mit der Erstellung eines Problemdiagramms:"
      ]
    },
    {
      "cell_type": "code",
      "execution_count": null,
      "metadata": {
      },
      "outputs": [

      ],
      "source": [
        "import networkx as nx\n",
        "\n",
        "n = 4\n",
        "G = nx.Graph()\n",
        "G.add_nodes_from(range(n))\n",
        "edge_list = [(0, 1, 1.0), (0, 2, 1.0), (0, 3, 1.0), (1, 2, 1.0), (2, 3, 1.0)]\n",
        "G.add_weighted_edges_from(edge_list)\n",
        "\n",
        "colors = [\"red\" for i in range(n)]\n",
        "\n",
        "\n",
        "def draw_graph(G, colors):\n",
        "    \"\"\"Draws the graph with the chose colors\"\"\"\n",
        "    layout = nx.shell_layout(G)\n",
        "    nx.draw_networkx(G, node_color=colors, pos=layout)\n",
        "    edge_labels = nx.get_edge_attributes(G, \"weight\")\n",
        "    nx.draw_networkx_edge_labels(G, pos=layout, edge_labels=edge_labels)\n",
        "\n",
        "\n",
        "draw_graph(G, colors)"
      ]
    },
    {
      "attachments": {
      },
      "cell_type": "markdown",
      "metadata": {
      },
      "source": [
        "Dieses Problem kann als binäres Optimierungsproblem ausgedrückt werden. Für jeden Knoten $0 \\leq i &lt; n$, wobei $n$ die Anzahl der Knoten des Graphen ist (in diesem Fall $n=4$), betrachten wir die binäre Variable $x_i$. Diese Variable hat den Wert $1$, wenn Knoten $i$ eine der Gruppen ist, die wir als $1$ bezeichnen, und $0$, wenn er in der anderen Gruppe ist, die wir als $0$ bezeichnen. Wir bezeichnen auch als $w_{ij}$ (Element $(i,j)$ der Adjazenzmatrix $w$) das Gewicht der Kante, die von Knoten $i$ zu Knoten $j$ führt. Da der Graph ungerichtet ist, ist $w_{ij}=w_{ji}$. Dann können wir unser Problem als Maximierung der folgenden Kostenfunktion formulieren:\n",
        "\n",
        "$$\n",
        "\\begin{aligned}\n",
        "C(\\vec{x})\n",
        "& =\\sum_{i,j=0}^n w_{ij} x_i(1-x_j)\\\\[1mm]\n",
        "\n",
        "& = \\sum_{i,j=0}^n w_{ij} x_i - \\sum_{i,j=0}^n w_{ij} x_ix_j\\\\[1mm]\n",
        "\n",
        "& = \\sum_{i,j=0}^n w_{ij} x_i - \\sum_{i=0}^n \\sum_{j=0}^i 2w_{ij} x_ix_j\n",
        "\\end{aligned}\n",
        "$$\n",
        "\n",
        "Um dieses Problem mit einem Quantencomputer zu lösen, werden wir die Kostenfunktion als den erwarteten Wert einer Observable ausdrücken. Die Observablen, die Qiskit nativ zulässt, bestehen jedoch aus Pauli-Operatoren, die Eigenwerte von 1 und -1 anstelle von 0 und 1 haben. Deshalb werden wir die folgende Variablenänderung vornehmen:\n",
        "\n",
        "Wobei $\\vec{x}=(x_0,x_1,\\cdots ,x_{n-1})$ . Wir können die Adjazenzmatrix $w$ verwenden, um bequem auf die Gewichte aller Kanten zuzugreifen. Dies wird verwendet, um unsere Kostenfunktion zu erhalten:\n",
        "\n",
        "$$\n",
        "z_i = 1-2x_i \\rightarrow x_i = \\frac{1-z_i}{2}\n",
        "$$\n",
        "\n",
        "Dies bedeutet:\n",
        "\n",
        "$$\n",
        "\\begin{array}{lcl} x_i=0 & \\rightarrow & z_i=1 \\\\ x_i=1 & \\rightarrow & z_i=-1.\\end{array}\n",
        "$$\n",
        "\n",
        "Die neue Kostenfunktion, die wir maximieren möchten, lautet also:\n",
        "\n",
        "$$\n",
        "\\begin{aligned}\n",
        "C(\\vec{z})\n",
        "& = \\sum_{i,j=0}^n w_{ij} \\bigg(\\frac{1-z_i}{2}\\bigg)\\bigg(1-\\frac{1-z_j}{2}\\bigg)\\\\[1mm]\n",
        "\n",
        "& = \\sum_{i,j=0}^n \\frac{w_{ij}}{4} - \\sum_{i,j=0}^n \\frac{w_{ij}}{4} z_iz_j\\\\[1mm]\n",
        "\n",
        "& = \\sum_{i=0}^n \\sum_{j=0}^i \\frac{w_{ij}}{2} -  \\sum_{i=0}^n \\sum_{j=0}^i \\frac{w_{ij}}{2} z_iz_j\n",
        "\\end{aligned}\n",
        "$$\n",
        "\n",
        "Darüber hinaus besteht die natürliche Tendenz eines Quantencomputers darin, Minima (normalerweise die niedrigste Energie) anstelle von Maxima zu finden. Anstatt also $C(\\vec{z})$ zu maximieren, minimieren wir:\n",
        "\n",
        "$$\n",
        "-C(\\vec{z}) =  \\sum_{i=0}^n \\sum_{j=0}^i \\frac{w_{ij}}{2} z_iz_j -  \\sum_{i=0}^n \\sum_{j=0}^i \\frac{w_{ij}}{2}\n",
        "$$\n",
        "\n",
        "Nachdem wir nun eine zu minimierende Kostenfunktion haben, deren Variablen die Werte -1 und 1 annehmen können, können wir die folgende Analogie mit dem Pauli-Z herstellen:\n",
        "\n",
        "$$\n",
        "z_i \\equiv Z_i = \\overbrace{I}^{n-1}\\otimes ... \\otimes \\overbrace{Z}^{i} \\otimes ... \\otimes \\overbrace{I}^{0}\n",
        "$$\n",
        "\n",
        "Mit anderen Worten, die Variable $z_i$ entspricht einem $Z$-Gatter, das auf Qubit $i$ einwirkt. Außerdem:\n",
        "\n",
        "$$\n",
        "Z_i|x_{n-1}\\cdots x_0\\rangle = z_i|x_{n-1}\\cdots x_0\\rangle \\rightarrow \\langle x_{n-1}\\cdots x_0 |Z_i|x_{n-1}\\cdots x_0\\rangle = z_i\n",
        "$$\n",
        "\n",
        "Dann betrachten wir folgende Observable:\n",
        "\n",
        "$$\n",
        "\\hat{H} = \\sum_{i=0}^n \\sum_{j=0}^i \\frac{w_{ij}}{2} Z_iZ_j\n",
        "$$\n",
        "\n",
        "zu dem wir anschließend den unabhängigen Term hinzufügen müssen:\n",
        "\n",
        "$$\n",
        "\\texttt{offset} = - \\sum_{i=0}^n \\sum_{j=0}^i \\frac{w_{ij}}{2}\n",
        "$$\n",
        "\n",
        "Diese Transformation kann mit [`QuadraticProgram.to_ising()`](https://qiskit.org/documentation/optimization/stubs/qiskit_optimization.QuadraticProgram.to_ising.html) durchgeführt werden."
      ]
    },
    {
      "cell_type": "code",
      "execution_count": null,
      "metadata": {
      },
      "outputs": [

      ],
      "source": [
        "from qiskit_optimization.applications import Maxcut\n",
        "from qiskit.algorithms.optimizers import COBYLA\n",
        "\n",
        "w = nx.to_numpy_array(G)\n",
        "\n",
        "max_cut = Maxcut(w)\n",
        "quadratic_program = max_cut.to_quadratic_program()\n",
        "observable, offset = quadratic_program.to_ising()\n",
        "\n",
        "\n",
        "def cost_function_max_cut_vqe(theta):\n",
        "\n",
        "    ansatz = TwoLocal(\n",
        "        observable.num_qubits, \"rx\", reps=1\n",
        "    )\n",
        "\n",
        "    backend = service.backend(\"ibmq_qasm_simulator\")\n",
        "\n",
        "    # Use estimator to get the expected values corresponding to each ansatz\n",
        "    estimator = Estimator(session=backend)\n",
        "    job = estimator.run(ansatz, observable, theta)\n",
        "    values = job.result().values\n",
        "\n",
        "    return values\n",
        "\n",
        "\n",
        "optimizer = COBYLA()\n",
        "\n",
        "initial_theta = np.ones(8)\n",
        "\n",
        "optimizer_result = optimizer.minimize(fun=cost_function_max_cut_vqe, x0=initial_theta)\n",
        "\n",
        "optimal_parameters = optimizer_result.x\n",
        "print(optimal_parameters)"
      ]
    },
    {
      "attachments": {
      },
      "cell_type": "markdown",
      "metadata": {
      },
      "source": [
        "Wir werden dieses Beispiel in Anwendungen noch einmal aufgreifen, um zu untersuchen, wie man einen Optimierer nutzen kann, um den Suchraum zu durchlaufen. Im Allgemeinen umfasst dies:\n",
        "\n",
        "- Nutzung eines Optimierers zur Ermittlung optimaler Parameter\n",
        "- Bindung optimaler Parameter an den Ansatz zur Ermittlung der Eigenwerte\n",
        "- Übersetzen der Eigenwerte in unsere Problemdefinition"
      ]
    },
    {
      "attachments": {
      },
      "cell_type": "markdown",
      "metadata": {
      },
      "source": [
        "## Messstrategie: Geschwindigkeit vs. Genauigkeit\n",
        "\n",
        "Wie erwähnt verwenden wir einen verrauschten Quantencomputer als *Black-Box-Orakel* , wobei Rauschen die abgerufenen Werte nichtdeterministisch machen kann, was zu zufälligen Schwankungen führt, die wiederum die Konvergenz bestimmter Optimierer zu einer vorgeschlagenen Lösung beeinträchtigen oder sogar vollständig verhindern. Dies ist ein allgemeines Problem, das wir angehen müssen, während wir schrittweise auf den Quantenvorteil hinarbeiten:\n",
        "\n",
        "![Vorteil](images/cost_function_path_to_quantum_advantage.png)\n",
        "\n",
        "Wir können die Optionen zur Fehlerunterdrückung und Fehlerminderung von Qiskit Runtime Primitive nutzen, um Rauschen zu beseitigen und den Nutzen der heutigen Quantencomputer zu maximieren."
      ]
    },
    {
      "attachments": {
      },
      "cell_type": "markdown",
      "metadata": {
        "gloss": {
          "overhead": {
            "text": "Extra costs introduced by new techniques, relative to a base implementation.",
            "title": "Overhead"
          }
        }
      },
      "source": [
        "### Fehlerunterdrückung\n",
        "\n",
        "[Fehlerunterdrückung](https://qiskit.org/documentation/partners/qiskit_ibm_runtime/how_to/error-suppression.html) bezieht sich auf Techniken, die verwendet werden, um einen Schaltkreis während der Kompilierung zu optimieren und zu transformieren, um Fehler zu minimieren. Dies ist eine grundlegende Fehlerbehandlungstechnik, die normalerweise zu einem klassischen Vorverarbeitungs- [Overhead](gloss:overhead) für die gesamte Laufzeit führt. Der Overhead umfasst das Transpilieren von Schaltkreisen, um sie auf Quantenhardware auszuführen, durch:\n",
        "\n",
        "- Darstellung der Schaltung mit den nativen Gattern, die in einem Quantensystem verfügbar sind\n",
        "- Zuordnung der virtuellen Qubits zu physischen Qubits\n",
        "- Hinzufügen von SWAPs basierend auf Konnektivitätsanforderungen\n",
        "- Optimierung von 1Q- und 2Q-Gattern\n",
        "- Hinzufügen einer dynamischen Entkopplung zu inaktiven Qubits, um die Auswirkungen der Dekohärenz zu verhindern.\n",
        "\n",
        "Primitive ermöglichen die Verwendung von [Fehlerunterdrückungstechniken](https://qiskit.org/documentation/partners/qiskit_ibm_runtime/how_to/error-suppression.html) durch Festlegen der Option `optimization_level` und Auswählen erweiterter Transpilierungsoptionen. In einem späteren Kurs werden wir uns mit verschiedenen Schaltungskonstruktionsmethoden zur Verbesserung der Ergebnisse befassen, aber in den meisten Fällen empfehlen wir die Festlegung von `optimization_level=3` ."
      ]
    },
    {
      "attachments": {
      },
      "cell_type": "markdown",
      "metadata": {
        "gloss": {
          "bias": {
            "text": "A systematic drift in the measured quantities, usually caused by errors.",
            "title": "Bias"
          }
        }
      },
      "source": [
        "### Fehlerminderung\n",
        "\n",
        "[Fehlerminderung](https://qiskit.org/documentation/partners/qiskit_ibm_runtime/how_to/error-mitigation.html) bezieht sich auf Techniken, mit denen Benutzer Schaltungsfehler reduzieren können, indem sie das Geräterauschen zum Zeitpunkt der Ausführung modellieren. Dies führt normalerweise zu einem Quanten-Vorverarbeitungsaufwand im Zusammenhang mit dem Modelltraining und einem klassischen Nachverarbeitungsaufwand, um Fehler in den Rohergebnissen durch Verwendung des generierten Modells zu mindern.\n",
        "\n",
        "Die Option `resilience_level` des Qiskit Runtime-Primitivs gibt den Grad der Widerstandsfähigkeit gegen Fehler an. Höhere Levels erzeugen genauere Ergebnisse auf Kosten längerer Verarbeitungszeiten aufgrund des Quantum-Sampling-Overheads. Widerstandslevel können verwendet werden, um den Kompromiss zwischen Kosten und Genauigkeit zu konfigurieren, wenn Sie Fehlerminderung auf Ihre primitive Abfrage anwenden.\n",
        "\n",
        "Bei der Implementierung einer Fehlerminderungstechnik erwarten wir, dass die [Verzerrung](gloss:bias) in unseren Ergebnissen im Vergleich zur vorherigen, ungeminderten Verzerrung reduziert wird. In einigen Fällen kann die Verzerrung sogar verschwinden. Dies hat jedoch seinen Preis. Wenn wir die Verzerrung in unseren geschätzten Mengen reduzieren, erhöht sich die statistische Variabilität (d. h. die Varianz), was wir berücksichtigen können, indem wir die Anzahl der Aufnahmen pro Schaltkreis in unserem Sampling-Prozess weiter erhöhen. Dies führt zu einem Overhead, der über den zur Reduzierung der Verzerrung erforderlichen hinausgeht, daher wird dies nicht standardmäßig durchgeführt. Wir können dieses Verhalten problemlos aktivieren, indem wir die Anzahl der Aufnahmen pro Schaltkreis in options.executions.shots anpassen, wie im folgenden Beispiel gezeigt.\n",
        "\n",
        "![Kompromiss zwischen Bias und Varianz](images/cost_function_bias_variance_trade_off.png)\n",
        "\n",
        "In diesem Kurs werden wir diese Fehlerminderungsmodelle auf hoher Ebene untersuchen, um die Fehlerminderung zu veranschaulichen, die Qiskit Runtime-Grundelemente durchführen können, ohne dass vollständige Implementierungsdetails erforderlich sind.\n",
        "\n",
        "### Auslöschung von verwirbelten Auslesefehlern (T-REx)\n",
        "\n",
        "Twirled Readout Error Extinction (T-REx) verwendet eine als Pauli-Twirling bekannte Technik, um das während der Quantenmessung entstehende Rauschen zu reduzieren. Diese Technik geht von keiner bestimmten Form von Rauschen aus, was sie sehr allgemein und effektiv macht.\n",
        "\n",
        "Gesamtablauf:\n",
        "\n",
        "1. Erfassung von Daten für den Nullzustand mit randomisierten Bit-Flips (Pauli X vor der Messung)\n",
        "2. Erfassen Sie Daten für den gewünschten (verrauschten) Zustand mit randomisierten Bit-Flips (Pauli X vor der Messung).\n",
        "3. Berechnen Sie für jeden Datensatz die spezielle Funktion und dividieren Sie.\n",
        "\n",
        "&nbsp;\n",
        "\n",
        "![T-REX](images/cost_function_trex_data_collection.png)\n",
        "\n",
        "Wir können dies mit `options.resilience_level = 1` festlegen, wie im folgenden Beispiel gezeigt.\n",
        "\n",
        "### Keine Rauschextrapolation\n",
        "\n",
        "Bei der Zero-Noise-Extrapolation (ZNE) wird zunächst das Rauschen in dem Schaltkreis verstärkt, der den gewünschten Quantenzustand vorbereitet. Anschließend werden Messungen für mehrere unterschiedliche Rauschpegel durchgeführt und anhand dieser Messungen wird das rauschfreie Ergebnis abgeleitet.\n",
        "\n",
        "Gesamtablauf:\n",
        "\n",
        "1. Verstärken Sie das Schaltungsrauschen für mehrere Rauschfaktoren\n",
        "2. Führen Sie alle rauschverstärkten Schaltkreise aus\n",
        "3. Extrapolieren Sie zurück zur Null-Rauschgrenze\n",
        "\n",
        "&nbsp;\n",
        "\n",
        "![ZNE](images/cost_function_zne_stages.png)\n",
        "\n",
        "Wir können dies mit `options.resilience_level = 2` einstellen. Wir können dies weiter optimieren, indem wir verschiedene `noise_factors` , `noise_amplifiers` und `extrapolators` untersuchen, aber das liegt außerhalb des Rahmens dieses Kurses. Wir ermutigen Sie, mit diesen [Optionen zu experimentieren, wie hier beschrieben](https://qiskit.org/documentation/partners/qiskit_ibm_runtime/how_to/error-mitigation.html#advanced-resilience-options) .\n",
        "\n",
        "### Probabilistische Fehlerstornierung\n",
        "\n",
        "Probabilistische Fehlerunterdrückung (PEC)-Abtastungen für eine Sammlung von Schaltkreisen, die im Durchschnitt einen Rauschinvertierungskanal nachahmen, um das Rauschen in der gewünschten Berechnung zu unterdrücken. Dieser Prozess ähnelt ein wenig der Funktionsweise von Kopfhörern zur Rauschunterdrückung und liefert großartige Ergebnisse. Er ist jedoch nicht so allgemein wie andere Methoden und der Abtastaufwand ist exponentiell.\n",
        "\n",
        "Gesamtablauf:\n",
        "\n",
        "![PEC](images/cost_function_pec_layers.png)\n",
        "\n",
        "Schritt 1: Pauli-Wirbeln\n",
        "\n",
        "![PEC-Wirbeln](images/cost_function_pec_pauli_twirling.png)\n",
        "\n",
        "Schritt 2: Ebene wiederholen und das Rauschen lernen\n",
        "\n",
        "![PEC-Lernen](images/cost_function_pec_learn_layer.png)\n",
        "\n",
        "Schritt 3: Ermitteln der Wiedergabetreue (Fehler für jeden Rauschkanal)\n",
        "\n",
        "![PEC-Treue](images/cost_function_pec_curve_fitting.png)\n",
        "\n",
        "Jede Methode ist mit einem eigenen Mehraufwand verbunden: einem Kompromiss zwischen der Anzahl der erforderlichen Quantenberechnungen (Zeit) und der Genauigkeit unserer Ergebnisse:\n",
        "\n",
        "$$\n",
        "\\begin{array}{c|c|c|c}\n",
        "  \\text{Methods} & R=1 \\text{, T-REx} & R=2 \\text{, ZNE} & R=3 \\text{, PEC} \\\\[1mm]\n",
        "  \\hline\n",
        "  \\text{Assumptions} & \\text{None} & \\text{Ability to scale noise} & \\text{Full knowledge of noise} \\\\[1mm]\n",
        "  \\text{Qubit overhead} & 1 & 1 & 1 \\\\[1mm]\n",
        "  \\text{Sampling overhead} & 2 & N_{\\text{noise-factors}} & \\mathcal{O}(e^{\\lambda N_{layers}}) \\\\[1mm]\n",
        "  \\text{Bias} & 0 & \\mathcal{O}(\\lambda^{N_{\\text{noise-factors}}}) & 0 \\\\[1mm]\n",
        "\\end{array}\n",
        "$$"
      ]
    },
    {
      "attachments": {
      },
      "cell_type": "markdown",
      "metadata": {
      },
      "source": [
        "### Verwenden der Minderungs- und Unterdrückungsoptionen von Qiskit Runtime\n",
        "\n",
        "So berechnen Sie einen Erwartungswert bei Verwendung der Fehlerminderung und -unterdrückung in Qiskit Runtime. Dieser Prozess wird während einer Optimierungsschleife mehrmals wiederholt, wir haben das Beispiel jedoch einfach gehalten, um zu demonstrieren, wie die Fehlerminderung und -unterdrückung konfiguriert wird."
      ]
    },
    {
      "cell_type": "code",
      "execution_count": null,
      "metadata": {
      },
      "outputs": [

      ],
      "source": [
        "from qiskit.circuit import Parameter, QuantumCircuit\n",
        "from qiskit.quantum_info import SparsePauliOp\n",
        "\n",
        "theta = Parameter(\"theta\")\n",
        "\n",
        "qc = QuantumCircuit(2)\n",
        "qc.x(1)\n",
        "qc.h(0)\n",
        "qc.cp(theta, 0, 1)\n",
        "qc.h(0)\n",
        "observables = SparsePauliOp.from_list([(\"ZZ\", 1)])\n",
        "\n",
        "qc.draw(\"mpl\")"
      ]
    },
    {
      "cell_type": "code",
      "execution_count": null,
      "metadata": {
      },
      "outputs": [

      ],
      "source": [
        "## Setup phases\n",
        "import numpy as np\n",
        "\n",
        "phases = np.linspace(0, 2 * np.pi, 50)\n",
        "\n",
        "# phases need to be expressed as a list of lists in order to work\n",
        "individual_phases = [[phase] for phase in phases]"
      ]
    },
    {
      "cell_type": "code",
      "execution_count": null,
      "metadata": {
      },
      "outputs": [

      ],
      "source": [
        "## Create noise model\n",
        "from qiskit.providers.fake_provider import FakeManila\n",
        "from qiskit_aer.noise import NoiseModel\n",
        "from qiskit_ibm_runtime import Options\n",
        "\n",
        "\n",
        "# Make a noise model\n",
        "fake_backend = FakeManila()\n",
        "noise_model = NoiseModel.from_backend(fake_backend)\n",
        "\n",
        "# Set options to include the noise model\n",
        "options = Options()\n",
        "options.simulator = {\n",
        "    \"noise_model\": noise_model,\n",
        "    \"basis_gates\": fake_backend.configuration().basis_gates,\n",
        "    \"coupling_map\": fake_backend.configuration().coupling_map,\n",
        "    \"seed_simulator\": 42,\n",
        "}"
      ]
    },
    {
      "cell_type": "code",
      "execution_count": null,
      "metadata": {
        "tags": [
          "uses-hardware"
        ]
      },
      "outputs": [

      ],
      "source": [
        "from qiskit_ibm_runtime import Session, QiskitRuntimeService, Estimator\n",
        "\n",
        "# Add your token below\n",
        "service = QiskitRuntimeService(channel=\"ibm_quantum\")\n",
        "\n",
        "noisy_exp_values = []\n",
        "exp_values_with_em_es = []\n",
        "\n",
        "with Session(service=service, backend=\"ibmq_qasm_simulator\") as session:\n",
        "    # generate noisy results\n",
        "    estimator = Estimator(options=options)\n",
        "    job = estimator.run(\n",
        "        circuits=[qc] * len(phases),\n",
        "        parameter_values=individual_phases,\n",
        "        observables=[observables] * len(phases),\n",
        "        shots=1000,\n",
        "    )\n",
        "    result = job.result()\n",
        "    noisy_exp_values = result.values\n",
        "\n",
        "    options.optimization_level = 2\n",
        "    options.resilience_level = 1\n",
        "\n",
        "    # leverage mitigation and suppression\n",
        "    estimator = Estimator(options=options)\n",
        "    job = estimator.run(\n",
        "        circuits=[qc] * len(phases),\n",
        "        parameter_values=individual_phases,\n",
        "        observables=[observables] * len(phases),\n",
        "        shots=1000,\n",
        "    )\n",
        "    result = job.result()\n",
        "    exp_values_with_em_es = result.values\n",
        "\n",
        "    session.close()"
      ]
    },
    {
      "cell_type": "code",
      "execution_count": null,
      "metadata": {
      },
      "outputs": [

      ],
      "source": [
        "import matplotlib.pyplot as plt\n",
        "\n",
        "plt.plot(phases, noisy_exp_values, \"o\", label=\"Noisy\")\n",
        "plt.plot(phases, exp_values_with_em_es, \"o\", label=\"Mitigation + Suppression\")\n",
        "plt.plot(phases, 2 * np.sin(phases / 2) ** 2 - 1, label=\"Theory\")\n",
        "plt.xlabel(\"Phase\")\n",
        "plt.ylabel(\"Expectation\")\n",
        "plt.legend()\n",
        "plt.show()"
      ]
    },
    {
      "attachments": {
      },
      "cell_type": "markdown",
      "metadata": {
      },
      "source": [
        "In dieser Lektion haben Sie gelernt, wie Sie eine Kostenfunktion erstellen:\n",
        "\n",
        "- Erstellen einer Kostenfunktion\n",
        "- So nutzen Sie [Qiskit Runtime-Primitive](https://qiskit.org/documentation/partners/qiskit_ibm_runtime/primitives.html) zur Minderung und Unterdrückung von Rauschen\n",
        "- So definieren Sie eine Messstrategie zur Optimierung von Geschwindigkeit und Genauigkeit\n",
        "\n",
        "Hier ist unsere hochrangige Variationsarbeitslast:\n",
        "\n",
        "![Kostenfunktionsschaltung](images/cost_function_circuit.png)\n",
        "\n",
        "Unsere Kostenfunktion wird während jeder Iteration der Optimierungsschleife ausgeführt. In der nächsten Lektion erfahren Sie, wie der klassische Optimierer unsere Kostenfunktionsauswertung verwendet, um neue Parameter auszuwählen."
      ]
    }
  ],
  "metadata": {
    "kernelspec": {
      "display_name": "Python 3",
      "language": "python",
      "name": "python3"
    },
    "language_info": {
      "codemirror_mode": {
        "name": "ipython",
        "version": 3
      },
      "file_extension": ".py",
      "mimetype": "text/x-python",
      "name": "python",
      "nbconvert_exporter": "python",
      "pygments_lexer": "ipython3",
      "version": "3.9"
    }
  },
  "nbformat": 4,
  "nbformat_minor": 2
}
